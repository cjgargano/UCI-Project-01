{
 "cells": [
  {
   "cell_type": "code",
   "execution_count": 1,
   "metadata": {
    "collapsed": true
   },
   "outputs": [],
   "source": [
    "#Import Dependencies\n",
    "import pandas as pd\n",
    "import numpy as np\n",
    "import matplotlib.pyplot as plt\n",
    "import seaborn as sns"
   ]
  },
  {
   "cell_type": "code",
   "execution_count": 2,
   "metadata": {
    "collapsed": true
   },
   "outputs": [],
   "source": [
    "#salary vs birthplace - CG - Done\n",
    "#salary vs pts per game - CG - Done\n",
    "#salary vs NHL GWG - CB - Done\n",
    "#salary vs Age - CB - Done\n",
    "#salary vs Penalties - JW - Done\n",
    "#salary vs overall draft - JW - Done"
   ]
  },
  {
   "cell_type": "code",
   "execution_count": 3,
   "metadata": {
    "collapsed": true
   },
   "outputs": [],
   "source": [
    "#read in the csv database \n",
    "nhl_df = pd.read_csv(\"nhlstats.csv\", encoding='ISO-8859-1',error_bad_lines=False)"
   ]
  },
  {
   "cell_type": "code",
   "execution_count": 4,
   "metadata": {},
   "outputs": [
    {
     "name": "stdout",
     "output_type": "stream",
     "text": [
      "<class 'pandas.core.frame.DataFrame'>\n",
      "RangeIndex: 874 entries, 0 to 873\n",
      "Columns: 168 entries, Player Id to Cap Hit\n",
      "dtypes: float64(67), int64(75), object(26)\n",
      "memory usage: 1.1+ MB\n"
     ]
    }
   ],
   "source": [
    "#Display dimension of our dataframe\n",
    "nhl_df = pd.DataFrame(nhl_df)\n",
    "nhl_df.info()"
   ]
  },
  {
   "cell_type": "code",
   "execution_count": 5,
   "metadata": {
    "collapsed": true
   },
   "outputs": [],
   "source": [
    "#add column for points per game, calculate points per game, and fill cells with answer\n",
    "nhl_df[\"Points per Game\"] = round(nhl_df[\"Points\"] / nhl_df[\"GP\"],3)\n",
    "\n",
    "#Normalize Dangerous Shots For / Against data by divding the stat by TOI (Time On Ice)\n",
    "nhl_df[\"DSF/TOI\"] = nhl_df[\"DSF\"]/nhl_df[\"TOI\"]\n",
    "nhl_df[\"DSA/TOI\"] = nhl_df[\"DSA\"]/nhl_df[\"TOI\"]"
   ]
  },
  {
   "cell_type": "code",
   "execution_count": null,
   "metadata": {
    "scrolled": false
   },
   "outputs": [],
   "source": [
    "### Run a correlation analysis to identify which measures are related\n",
    "nhl_corr = nhl_df.corr()\n",
    "nhl_corr.info()\n",
    "nhl_corr.head()"
   ]
  },
  {
   "cell_type": "code",
   "execution_count": null,
   "metadata": {
    "collapsed": true,
    "scrolled": true
   },
   "outputs": [],
   "source": [
    "# Only keep variables with Abs(Correlations) > 0.50\n",
    "#nhl_corr_high = nhl_corr[(abs(nhl_corr) > 0.50).all(axis=1)]\n",
    "#nhl_corr_high.info()\n",
    "#nhl_corr.head()"
   ]
  },
  {
   "cell_type": "code",
   "execution_count": null,
   "metadata": {
    "collapsed": true
   },
   "outputs": [],
   "source": [
    "### Loop through Rows x Columns;\n",
    "### Find indexes"
   ]
  },
  {
   "cell_type": "code",
   "execution_count": null,
   "metadata": {},
   "outputs": [],
   "source": [
    "# Generate a mask for the upper triangle\n",
    "mask = np.zeros_like(nhl_corr, dtype=np.bool)\n",
    "mask[np.triu_indices_from(mask)] = True\n",
    "\n",
    "# Set up the matplotlib figure\n",
    "f, ax = plt.subplots(figsize=(12, 18))\n",
    "\n",
    "# Generate a custom diverging colormap\n",
    "cmap = sns.diverging_palette(220, 10, as_cmap=True)\n",
    "\n",
    "# Draw the heatmap with the mask and correct aspect ratio\n",
    "sns.heatmap(nhl_corr, mask=mask, cmap=cmap, vmax=.3, center=0,\n",
    "            square=True, linewidths=.5, cbar_kws={\"shrink\": .5})\n",
    "\n",
    "plt.show()"
   ]
  },
  {
   "cell_type": "code",
   "execution_count": 6,
   "metadata": {
    "collapsed": true
   },
   "outputs": [],
   "source": [
    "#remove RFA players\n",
    "ufa_df = nhl_df.loc[nhl_df[\"Status\"] == \"UFA\"]"
   ]
  },
  {
   "cell_type": "code",
   "execution_count": 7,
   "metadata": {},
   "outputs": [
    {
     "data": {
      "text/plain": [
       "474"
      ]
     },
     "execution_count": 7,
     "metadata": {},
     "output_type": "execute_result"
    }
   ],
   "source": [
    "#drop NaN's\n",
    "ufa_df = ufa_df[ufa_df['Status'].notnull()]\n",
    "len(ufa_df)"
   ]
  },
  {
   "cell_type": "code",
   "execution_count": 8,
   "metadata": {
    "scrolled": true
   },
   "outputs": [
    {
     "data": {
      "text/html": [
       "<div>\n",
       "<style>\n",
       "    .dataframe thead tr:only-child th {\n",
       "        text-align: right;\n",
       "    }\n",
       "\n",
       "    .dataframe thead th {\n",
       "        text-align: left;\n",
       "    }\n",
       "\n",
       "    .dataframe tbody tr th {\n",
       "        vertical-align: top;\n",
       "    }\n",
       "</style>\n",
       "<table border=\"1\" class=\"dataframe\">\n",
       "  <thead>\n",
       "    <tr style=\"text-align: right;\">\n",
       "      <th></th>\n",
       "      <th>Player Id</th>\n",
       "      <th>Year Born</th>\n",
       "      <th>Age</th>\n",
       "      <th>NHL City</th>\n",
       "      <th>Pr/St</th>\n",
       "      <th>Nationality</th>\n",
       "      <th>NHL Nat</th>\n",
       "      <th>NHL Ht</th>\n",
       "      <th>NHL Wt</th>\n",
       "      <th>NHL DftYr</th>\n",
       "      <th>...</th>\n",
       "      <th>TC MGL</th>\n",
       "      <th>TC Injuries</th>\n",
       "      <th>TC CHIP</th>\n",
       "      <th>CF NMC</th>\n",
       "      <th>Status</th>\n",
       "      <th>Salary</th>\n",
       "      <th>Cap Hit</th>\n",
       "      <th>Points per Game</th>\n",
       "      <th>DSF/TOI</th>\n",
       "      <th>DSA/TOI</th>\n",
       "    </tr>\n",
       "  </thead>\n",
       "  <tbody>\n",
       "    <tr>\n",
       "      <th>0</th>\n",
       "      <td>8476805</td>\n",
       "      <td>32263</td>\n",
       "      <td>29</td>\n",
       "      <td>Hamilton</td>\n",
       "      <td>ON</td>\n",
       "      <td>CAN</td>\n",
       "      <td>CAN</td>\n",
       "      <td>69</td>\n",
       "      <td>170</td>\n",
       "      <td>NaN</td>\n",
       "      <td>...</td>\n",
       "      <td>NaN</td>\n",
       "      <td>NaN</td>\n",
       "      <td>NaN</td>\n",
       "      <td>NaN</td>\n",
       "      <td>UFA</td>\n",
       "      <td>575000</td>\n",
       "      <td>575000</td>\n",
       "      <td>0.000</td>\n",
       "      <td>0.000000</td>\n",
       "      <td>0.001946</td>\n",
       "    </tr>\n",
       "    <tr>\n",
       "      <th>1</th>\n",
       "      <td>8471716</td>\n",
       "      <td>31833</td>\n",
       "      <td>30</td>\n",
       "      <td>Muskegon</td>\n",
       "      <td>MI</td>\n",
       "      <td>USA</td>\n",
       "      <td>USA</td>\n",
       "      <td>74</td>\n",
       "      <td>218</td>\n",
       "      <td>2005.0</td>\n",
       "      <td>...</td>\n",
       "      <td>18.0</td>\n",
       "      <td>Lower body, Knee</td>\n",
       "      <td>932926.83</td>\n",
       "      <td>NTC</td>\n",
       "      <td>UFA</td>\n",
       "      <td>5500000</td>\n",
       "      <td>4250000</td>\n",
       "      <td>0.328</td>\n",
       "      <td>0.000954</td>\n",
       "      <td>0.001188</td>\n",
       "    </tr>\n",
       "    <tr>\n",
       "      <th>4</th>\n",
       "      <td>8475844</td>\n",
       "      <td>33724</td>\n",
       "      <td>25</td>\n",
       "      <td>Morristown</td>\n",
       "      <td>NJ</td>\n",
       "      <td>USA</td>\n",
       "      <td>USA</td>\n",
       "      <td>72</td>\n",
       "      <td>202</td>\n",
       "      <td>2010.0</td>\n",
       "      <td>...</td>\n",
       "      <td>NaN</td>\n",
       "      <td>NaN</td>\n",
       "      <td>NaN</td>\n",
       "      <td>NaN</td>\n",
       "      <td>UFA</td>\n",
       "      <td>625000</td>\n",
       "      <td>625000</td>\n",
       "      <td>0.429</td>\n",
       "      <td>0.001118</td>\n",
       "      <td>0.001491</td>\n",
       "    </tr>\n",
       "    <tr>\n",
       "      <th>6</th>\n",
       "      <td>8473991</td>\n",
       "      <td>32410</td>\n",
       "      <td>29</td>\n",
       "      <td>Burnaby</td>\n",
       "      <td>BC</td>\n",
       "      <td>CAN</td>\n",
       "      <td>CAN</td>\n",
       "      <td>75</td>\n",
       "      <td>219</td>\n",
       "      <td>2007.0</td>\n",
       "      <td>...</td>\n",
       "      <td>NaN</td>\n",
       "      <td>NaN</td>\n",
       "      <td>NaN</td>\n",
       "      <td>M-NTC</td>\n",
       "      <td>UFA</td>\n",
       "      <td>2800000</td>\n",
       "      <td>2800000</td>\n",
       "      <td>0.159</td>\n",
       "      <td>0.001273</td>\n",
       "      <td>0.001787</td>\n",
       "    </tr>\n",
       "    <tr>\n",
       "      <th>11</th>\n",
       "      <td>8473573</td>\n",
       "      <td>32287</td>\n",
       "      <td>29</td>\n",
       "      <td>Yaroslavl</td>\n",
       "      <td>NaN</td>\n",
       "      <td>RUS</td>\n",
       "      <td>RUS</td>\n",
       "      <td>76</td>\n",
       "      <td>198</td>\n",
       "      <td>2006.0</td>\n",
       "      <td>...</td>\n",
       "      <td>18.0</td>\n",
       "      <td>Upper body, Lower body</td>\n",
       "      <td>998780.49</td>\n",
       "      <td>NMC</td>\n",
       "      <td>UFA</td>\n",
       "      <td>5750000</td>\n",
       "      <td>4550000</td>\n",
       "      <td>0.703</td>\n",
       "      <td>0.000978</td>\n",
       "      <td>0.001503</td>\n",
       "    </tr>\n",
       "  </tbody>\n",
       "</table>\n",
       "<p>5 rows × 171 columns</p>\n",
       "</div>"
      ],
      "text/plain": [
       "    Player Id  Year Born  Age    NHL City Pr/St Nationality NHL Nat  NHL Ht  \\\n",
       "0     8476805      32263   29    Hamilton    ON         CAN     CAN      69   \n",
       "1     8471716      31833   30    Muskegon    MI         USA     USA      74   \n",
       "4     8475844      33724   25  Morristown    NJ         USA     USA      72   \n",
       "6     8473991      32410   29     Burnaby    BC         CAN     CAN      75   \n",
       "11    8473573      32287   29   Yaroslavl   NaN         RUS     RUS      76   \n",
       "\n",
       "    NHL Wt  NHL DftYr    ...     TC MGL             TC Injuries    TC CHIP  \\\n",
       "0      170        NaN    ...        NaN                     NaN        NaN   \n",
       "1      218     2005.0    ...       18.0        Lower body, Knee  932926.83   \n",
       "4      202     2010.0    ...        NaN                     NaN        NaN   \n",
       "6      219     2007.0    ...        NaN                     NaN        NaN   \n",
       "11     198     2006.0    ...       18.0  Upper body, Lower body  998780.49   \n",
       "\n",
       "   CF NMC Status   Salary  Cap Hit  Points per Game   DSF/TOI   DSA/TOI  \n",
       "0     NaN    UFA   575000   575000            0.000  0.000000  0.001946  \n",
       "1     NTC    UFA  5500000  4250000            0.328  0.000954  0.001188  \n",
       "4     NaN    UFA   625000   625000            0.429  0.001118  0.001491  \n",
       "6   M-NTC    UFA  2800000  2800000            0.159  0.001273  0.001787  \n",
       "11    NMC    UFA  5750000  4550000            0.703  0.000978  0.001503  \n",
       "\n",
       "[5 rows x 171 columns]"
      ]
     },
     "execution_count": 8,
     "metadata": {},
     "output_type": "execute_result"
    }
   ],
   "source": [
    "ufa_df.head()"
   ]
  },
  {
   "cell_type": "code",
   "execution_count": 9,
   "metadata": {
    "scrolled": true
   },
   "outputs": [
    {
     "name": "stdout",
     "output_type": "stream",
     "text": [
      "<class 'pandas.core.frame.DataFrame'>\n",
      "Int64Index: 474 entries, 0 to 871\n",
      "Columns: 171 entries, Player Id to DSA/TOI\n",
      "dtypes: float64(70), int64(75), object(26)\n",
      "memory usage: 636.9+ KB\n"
     ]
    }
   ],
   "source": [
    "ufa_df.info()"
   ]
  },
  {
   "cell_type": "code",
   "execution_count": 10,
   "metadata": {
    "scrolled": true
   },
   "outputs": [
    {
     "data": {
      "text/plain": [
       "CAN    241\n",
       "USA    132\n",
       "SWE     38\n",
       "CZE     16\n",
       "RUS     11\n",
       "FIN      9\n",
       "SVK      5\n",
       "DNK      5\n",
       "CHE      4\n",
       "AUT      3\n",
       "NOR      2\n",
       "DEU      2\n",
       "FRA      2\n",
       "HRV      1\n",
       "SVN      1\n",
       "EST      1\n",
       "ITA      1\n",
       "Name: Nationality, dtype: int64"
      ]
     },
     "execution_count": 10,
     "metadata": {},
     "output_type": "execute_result"
    }
   ],
   "source": [
    "#### Salary vs. Birthplace ####\n",
    "#Calculate number of players per country and display, so to find out how many players are in each country\n",
    "ufa_df[\"Nationality\"].value_counts()"
   ]
  },
  {
   "cell_type": "code",
   "execution_count": 11,
   "metadata": {
    "collapsed": true
   },
   "outputs": [],
   "source": [
    "country_count = pd.DataFrame(ufa_df['Nationality'].value_counts()).reset_index()\n",
    "country_count.rename(columns = {\"index\":\"Nationality\",\"Nationality\":\"Countryman\"}, inplace = True)"
   ]
  },
  {
   "cell_type": "code",
   "execution_count": 12,
   "metadata": {
    "scrolled": true
   },
   "outputs": [
    {
     "data": {
      "text/html": [
       "<div>\n",
       "<style>\n",
       "    .dataframe thead tr:only-child th {\n",
       "        text-align: right;\n",
       "    }\n",
       "\n",
       "    .dataframe thead th {\n",
       "        text-align: left;\n",
       "    }\n",
       "\n",
       "    .dataframe tbody tr th {\n",
       "        vertical-align: top;\n",
       "    }\n",
       "</style>\n",
       "<table border=\"1\" class=\"dataframe\">\n",
       "  <thead>\n",
       "    <tr style=\"text-align: right;\">\n",
       "      <th></th>\n",
       "      <th>Player Id</th>\n",
       "      <th>Year Born</th>\n",
       "      <th>Age</th>\n",
       "      <th>NHL City</th>\n",
       "      <th>Pr/St</th>\n",
       "      <th>Nationality</th>\n",
       "      <th>NHL Nat</th>\n",
       "      <th>NHL Ht</th>\n",
       "      <th>NHL Wt</th>\n",
       "      <th>NHL DftYr</th>\n",
       "      <th>...</th>\n",
       "      <th>TC Injuries</th>\n",
       "      <th>TC CHIP</th>\n",
       "      <th>CF NMC</th>\n",
       "      <th>Status</th>\n",
       "      <th>Salary</th>\n",
       "      <th>Cap Hit</th>\n",
       "      <th>Points per Game</th>\n",
       "      <th>DSF/TOI</th>\n",
       "      <th>DSA/TOI</th>\n",
       "      <th>Countryman</th>\n",
       "    </tr>\n",
       "  </thead>\n",
       "  <tbody>\n",
       "    <tr>\n",
       "      <th>0</th>\n",
       "      <td>8476805</td>\n",
       "      <td>32263</td>\n",
       "      <td>29</td>\n",
       "      <td>Hamilton</td>\n",
       "      <td>ON</td>\n",
       "      <td>CAN</td>\n",
       "      <td>CAN</td>\n",
       "      <td>69</td>\n",
       "      <td>170</td>\n",
       "      <td>NaN</td>\n",
       "      <td>...</td>\n",
       "      <td>NaN</td>\n",
       "      <td>NaN</td>\n",
       "      <td>NaN</td>\n",
       "      <td>UFA</td>\n",
       "      <td>575000</td>\n",
       "      <td>575000</td>\n",
       "      <td>0.000</td>\n",
       "      <td>0.000000</td>\n",
       "      <td>0.001946</td>\n",
       "      <td>241</td>\n",
       "    </tr>\n",
       "    <tr>\n",
       "      <th>1</th>\n",
       "      <td>8473991</td>\n",
       "      <td>32410</td>\n",
       "      <td>29</td>\n",
       "      <td>Burnaby</td>\n",
       "      <td>BC</td>\n",
       "      <td>CAN</td>\n",
       "      <td>CAN</td>\n",
       "      <td>75</td>\n",
       "      <td>219</td>\n",
       "      <td>2007.0</td>\n",
       "      <td>...</td>\n",
       "      <td>NaN</td>\n",
       "      <td>NaN</td>\n",
       "      <td>M-NTC</td>\n",
       "      <td>UFA</td>\n",
       "      <td>2800000</td>\n",
       "      <td>2800000</td>\n",
       "      <td>0.159</td>\n",
       "      <td>0.001273</td>\n",
       "      <td>0.001787</td>\n",
       "      <td>241</td>\n",
       "    </tr>\n",
       "    <tr>\n",
       "      <th>2</th>\n",
       "      <td>8474573</td>\n",
       "      <td>32783</td>\n",
       "      <td>28</td>\n",
       "      <td>Bowmanville</td>\n",
       "      <td>ON</td>\n",
       "      <td>CAN</td>\n",
       "      <td>CAN</td>\n",
       "      <td>73</td>\n",
       "      <td>210</td>\n",
       "      <td>2008.0</td>\n",
       "      <td>...</td>\n",
       "      <td>NaN</td>\n",
       "      <td>NaN</td>\n",
       "      <td>NaN</td>\n",
       "      <td>UFA</td>\n",
       "      <td>3700000</td>\n",
       "      <td>3300000</td>\n",
       "      <td>0.683</td>\n",
       "      <td>0.001516</td>\n",
       "      <td>0.000918</td>\n",
       "      <td>241</td>\n",
       "    </tr>\n",
       "    <tr>\n",
       "      <th>3</th>\n",
       "      <td>8474717</td>\n",
       "      <td>32955</td>\n",
       "      <td>27</td>\n",
       "      <td>Montreal</td>\n",
       "      <td>QC</td>\n",
       "      <td>CAN</td>\n",
       "      <td>CAN</td>\n",
       "      <td>73</td>\n",
       "      <td>207</td>\n",
       "      <td>2008.0</td>\n",
       "      <td>...</td>\n",
       "      <td>NaN</td>\n",
       "      <td>NaN</td>\n",
       "      <td>NaN</td>\n",
       "      <td>UFA</td>\n",
       "      <td>800000</td>\n",
       "      <td>750000</td>\n",
       "      <td>0.217</td>\n",
       "      <td>0.001339</td>\n",
       "      <td>0.001384</td>\n",
       "      <td>241</td>\n",
       "    </tr>\n",
       "    <tr>\n",
       "      <th>4</th>\n",
       "      <td>8475197</td>\n",
       "      <td>33445</td>\n",
       "      <td>26</td>\n",
       "      <td>Victoria</td>\n",
       "      <td>BC</td>\n",
       "      <td>CAN</td>\n",
       "      <td>CAN</td>\n",
       "      <td>70</td>\n",
       "      <td>190</td>\n",
       "      <td>2009.0</td>\n",
       "      <td>...</td>\n",
       "      <td>Lower body</td>\n",
       "      <td>536585.37</td>\n",
       "      <td>NaN</td>\n",
       "      <td>UFA</td>\n",
       "      <td>5000000</td>\n",
       "      <td>5500000</td>\n",
       "      <td>0.514</td>\n",
       "      <td>0.001024</td>\n",
       "      <td>0.000976</td>\n",
       "      <td>241</td>\n",
       "    </tr>\n",
       "  </tbody>\n",
       "</table>\n",
       "<p>5 rows × 172 columns</p>\n",
       "</div>"
      ],
      "text/plain": [
       "   Player Id  Year Born  Age     NHL City Pr/St Nationality NHL Nat  NHL Ht  \\\n",
       "0    8476805      32263   29     Hamilton    ON         CAN     CAN      69   \n",
       "1    8473991      32410   29      Burnaby    BC         CAN     CAN      75   \n",
       "2    8474573      32783   28  Bowmanville    ON         CAN     CAN      73   \n",
       "3    8474717      32955   27     Montreal    QC         CAN     CAN      73   \n",
       "4    8475197      33445   26     Victoria    BC         CAN     CAN      70   \n",
       "\n",
       "   NHL Wt  NHL DftYr     ...      TC Injuries    TC CHIP CF NMC Status  \\\n",
       "0     170        NaN     ...              NaN        NaN    NaN    UFA   \n",
       "1     219     2007.0     ...              NaN        NaN  M-NTC    UFA   \n",
       "2     210     2008.0     ...              NaN        NaN    NaN    UFA   \n",
       "3     207     2008.0     ...              NaN        NaN    NaN    UFA   \n",
       "4     190     2009.0     ...       Lower body  536585.37    NaN    UFA   \n",
       "\n",
       "    Salary  Cap Hit Points per Game   DSF/TOI   DSA/TOI  Countryman  \n",
       "0   575000   575000           0.000  0.000000  0.001946         241  \n",
       "1  2800000  2800000           0.159  0.001273  0.001787         241  \n",
       "2  3700000  3300000           0.683  0.001516  0.000918         241  \n",
       "3   800000   750000           0.217  0.001339  0.001384         241  \n",
       "4  5000000  5500000           0.514  0.001024  0.000976         241  \n",
       "\n",
       "[5 rows x 172 columns]"
      ]
     },
     "execution_count": 12,
     "metadata": {},
     "output_type": "execute_result"
    }
   ],
   "source": [
    "ufa_df = pd.merge(ufa_df, country_count, on=\"Nationality\")\n",
    "ufa_df.head()"
   ]
  },
  {
   "cell_type": "code",
   "execution_count": 13,
   "metadata": {
    "collapsed": true
   },
   "outputs": [],
   "source": [
    "ufa_df[\"Country Code\"] = ufa_df[\"Nationality\"]"
   ]
  },
  {
   "cell_type": "code",
   "execution_count": 14,
   "metadata": {},
   "outputs": [
    {
     "data": {
      "text/html": [
       "<div>\n",
       "<style>\n",
       "    .dataframe thead tr:only-child th {\n",
       "        text-align: right;\n",
       "    }\n",
       "\n",
       "    .dataframe thead th {\n",
       "        text-align: left;\n",
       "    }\n",
       "\n",
       "    .dataframe tbody tr th {\n",
       "        vertical-align: top;\n",
       "    }\n",
       "</style>\n",
       "<table border=\"1\" class=\"dataframe\">\n",
       "  <thead>\n",
       "    <tr style=\"text-align: right;\">\n",
       "      <th></th>\n",
       "      <th>Player Id</th>\n",
       "      <th>Year Born</th>\n",
       "      <th>Age</th>\n",
       "      <th>NHL City</th>\n",
       "      <th>Pr/St</th>\n",
       "      <th>Nationality</th>\n",
       "      <th>NHL Nat</th>\n",
       "      <th>NHL Ht</th>\n",
       "      <th>NHL Wt</th>\n",
       "      <th>NHL DftYr</th>\n",
       "      <th>...</th>\n",
       "      <th>TC CHIP</th>\n",
       "      <th>CF NMC</th>\n",
       "      <th>Status</th>\n",
       "      <th>Salary</th>\n",
       "      <th>Cap Hit</th>\n",
       "      <th>Points per Game</th>\n",
       "      <th>DSF/TOI</th>\n",
       "      <th>DSA/TOI</th>\n",
       "      <th>Countryman</th>\n",
       "      <th>Country Code</th>\n",
       "    </tr>\n",
       "  </thead>\n",
       "  <tbody>\n",
       "    <tr>\n",
       "      <th>0</th>\n",
       "      <td>8476805</td>\n",
       "      <td>32263</td>\n",
       "      <td>29</td>\n",
       "      <td>Hamilton</td>\n",
       "      <td>ON</td>\n",
       "      <td>CAN</td>\n",
       "      <td>CAN</td>\n",
       "      <td>69</td>\n",
       "      <td>170</td>\n",
       "      <td>NaN</td>\n",
       "      <td>...</td>\n",
       "      <td>NaN</td>\n",
       "      <td>NaN</td>\n",
       "      <td>UFA</td>\n",
       "      <td>575000</td>\n",
       "      <td>575000</td>\n",
       "      <td>0.000</td>\n",
       "      <td>0.000000</td>\n",
       "      <td>0.001946</td>\n",
       "      <td>241</td>\n",
       "      <td>CAN</td>\n",
       "    </tr>\n",
       "    <tr>\n",
       "      <th>1</th>\n",
       "      <td>8473991</td>\n",
       "      <td>32410</td>\n",
       "      <td>29</td>\n",
       "      <td>Burnaby</td>\n",
       "      <td>BC</td>\n",
       "      <td>CAN</td>\n",
       "      <td>CAN</td>\n",
       "      <td>75</td>\n",
       "      <td>219</td>\n",
       "      <td>2007.0</td>\n",
       "      <td>...</td>\n",
       "      <td>NaN</td>\n",
       "      <td>M-NTC</td>\n",
       "      <td>UFA</td>\n",
       "      <td>2800000</td>\n",
       "      <td>2800000</td>\n",
       "      <td>0.159</td>\n",
       "      <td>0.001273</td>\n",
       "      <td>0.001787</td>\n",
       "      <td>241</td>\n",
       "      <td>CAN</td>\n",
       "    </tr>\n",
       "    <tr>\n",
       "      <th>2</th>\n",
       "      <td>8474573</td>\n",
       "      <td>32783</td>\n",
       "      <td>28</td>\n",
       "      <td>Bowmanville</td>\n",
       "      <td>ON</td>\n",
       "      <td>CAN</td>\n",
       "      <td>CAN</td>\n",
       "      <td>73</td>\n",
       "      <td>210</td>\n",
       "      <td>2008.0</td>\n",
       "      <td>...</td>\n",
       "      <td>NaN</td>\n",
       "      <td>NaN</td>\n",
       "      <td>UFA</td>\n",
       "      <td>3700000</td>\n",
       "      <td>3300000</td>\n",
       "      <td>0.683</td>\n",
       "      <td>0.001516</td>\n",
       "      <td>0.000918</td>\n",
       "      <td>241</td>\n",
       "      <td>CAN</td>\n",
       "    </tr>\n",
       "    <tr>\n",
       "      <th>3</th>\n",
       "      <td>8474717</td>\n",
       "      <td>32955</td>\n",
       "      <td>27</td>\n",
       "      <td>Montreal</td>\n",
       "      <td>QC</td>\n",
       "      <td>CAN</td>\n",
       "      <td>CAN</td>\n",
       "      <td>73</td>\n",
       "      <td>207</td>\n",
       "      <td>2008.0</td>\n",
       "      <td>...</td>\n",
       "      <td>NaN</td>\n",
       "      <td>NaN</td>\n",
       "      <td>UFA</td>\n",
       "      <td>800000</td>\n",
       "      <td>750000</td>\n",
       "      <td>0.217</td>\n",
       "      <td>0.001339</td>\n",
       "      <td>0.001384</td>\n",
       "      <td>241</td>\n",
       "      <td>CAN</td>\n",
       "    </tr>\n",
       "    <tr>\n",
       "      <th>4</th>\n",
       "      <td>8475197</td>\n",
       "      <td>33445</td>\n",
       "      <td>26</td>\n",
       "      <td>Victoria</td>\n",
       "      <td>BC</td>\n",
       "      <td>CAN</td>\n",
       "      <td>CAN</td>\n",
       "      <td>70</td>\n",
       "      <td>190</td>\n",
       "      <td>2009.0</td>\n",
       "      <td>...</td>\n",
       "      <td>536585.37</td>\n",
       "      <td>NaN</td>\n",
       "      <td>UFA</td>\n",
       "      <td>5000000</td>\n",
       "      <td>5500000</td>\n",
       "      <td>0.514</td>\n",
       "      <td>0.001024</td>\n",
       "      <td>0.000976</td>\n",
       "      <td>241</td>\n",
       "      <td>CAN</td>\n",
       "    </tr>\n",
       "  </tbody>\n",
       "</table>\n",
       "<p>5 rows × 173 columns</p>\n",
       "</div>"
      ],
      "text/plain": [
       "   Player Id  Year Born  Age     NHL City Pr/St Nationality NHL Nat  NHL Ht  \\\n",
       "0    8476805      32263   29     Hamilton    ON         CAN     CAN      69   \n",
       "1    8473991      32410   29      Burnaby    BC         CAN     CAN      75   \n",
       "2    8474573      32783   28  Bowmanville    ON         CAN     CAN      73   \n",
       "3    8474717      32955   27     Montreal    QC         CAN     CAN      73   \n",
       "4    8475197      33445   26     Victoria    BC         CAN     CAN      70   \n",
       "\n",
       "   NHL Wt  NHL DftYr      ...         TC CHIP  CF NMC Status   Salary  \\\n",
       "0     170        NaN      ...             NaN     NaN    UFA   575000   \n",
       "1     219     2007.0      ...             NaN   M-NTC    UFA  2800000   \n",
       "2     210     2008.0      ...             NaN     NaN    UFA  3700000   \n",
       "3     207     2008.0      ...             NaN     NaN    UFA   800000   \n",
       "4     190     2009.0      ...       536585.37     NaN    UFA  5000000   \n",
       "\n",
       "   Cap Hit Points per Game   DSF/TOI   DSA/TOI  Countryman  Country Code  \n",
       "0   575000           0.000  0.000000  0.001946         241           CAN  \n",
       "1  2800000           0.159  0.001273  0.001787         241           CAN  \n",
       "2  3300000           0.683  0.001516  0.000918         241           CAN  \n",
       "3   750000           0.217  0.001339  0.001384         241           CAN  \n",
       "4  5500000           0.514  0.001024  0.000976         241           CAN  \n",
       "\n",
       "[5 rows x 173 columns]"
      ]
     },
     "execution_count": 14,
     "metadata": {},
     "output_type": "execute_result"
    }
   ],
   "source": [
    "ufa_df.head()"
   ]
  },
  {
   "cell_type": "code",
   "execution_count": 15,
   "metadata": {
    "collapsed": true
   },
   "outputs": [],
   "source": [
    "#If country is represented by less than or equal to 5 players, then give it a Country Code of \"OTH\"\n",
    "ufa_df.loc[ufa_df['Countryman'] <= 5, 'Country Code'] = \"OTH\""
   ]
  },
  {
   "cell_type": "code",
   "execution_count": 16,
   "metadata": {},
   "outputs": [
    {
     "data": {
      "image/png": "[encoded data removed]",
      "text/plain": [
       "<matplotlib.figure.Figure at 0x14458601b00>"
      ]
     },
     "metadata": {},
     "output_type": "display_data"
    }
   ],
   "source": [
    "#Display chart (Salary to Country)\n",
    "sns.set_style(\"whitegrid\")\n",
    "chart1 = sns.boxplot(x = \"Country Code\", y = \"Cap Hit\", data = ufa_df)\n",
    "plt.title(\"Player Salary by Nationality\")\n",
    "plt.show()"
   ]
  },
  {
   "cell_type": "code",
   "execution_count": 17,
   "metadata": {
    "collapsed": true,
    "scrolled": true
   },
   "outputs": [],
   "source": [
    "ufa_df[\"FWD/DEF\"] = ufa_df[\"Position\"]"
   ]
  },
  {
   "cell_type": "code",
   "execution_count": 18,
   "metadata": {
    "collapsed": true
   },
   "outputs": [],
   "source": [
    "replace_position = {\"D\": \"D\",\n",
    "                    \"C\": \"F\",\n",
    "                    \"RW\": \"F\",\n",
    "                    \"LW\": \"F\",\n",
    "                    \"C/LW\": \"F\",\n",
    "                    \"LW/C\": \"F\",\n",
    "                    \"C/RW\": \"F\",\n",
    "                    \"RW/C\": \"F\",\n",
    "                    \"LW/RW\": \"F\",\n",
    "                    \"RW/LW\": \"F\",\n",
    "                    \"C/LW/RW\": \"F\",\n",
    "                    \"C/RW/LW\": \"F\",\n",
    "                    \"LW/C/RW\": \"F\",\n",
    "                    \"LW/RW/C\": \"F\",\n",
    "                    \"RW/C/LW\": \"F\",\n",
    "                    \"RW/LW/C\": \"F\",\n",
    "                    \"D/RW\": \"D\",\n",
    "                    \"RW/D\": \"D\",\n",
    "                    \"D/LW\": \"D\",\n",
    "                    \"LW/D\": \"D\",\n",
    "                    \"C/D\": \"D\",\n",
    "                    \"D/C\": \"D\",\n",
    "                    \"C/LW/C\":\"F\"}\n",
    "ufa_df\n",
    "ufa_df.loc[:,\"FWD/DEF\"] = ufa_df[\"FWD/DEF\"].map(replace_position)"
   ]
  },
  {
   "cell_type": "code",
   "execution_count": 19,
   "metadata": {
    "scrolled": true
   },
   "outputs": [
    {
     "data": {
      "text/plain": [
       "F    299\n",
       "D    175\n",
       "Name: FWD/DEF, dtype: int64"
      ]
     },
     "execution_count": 19,
     "metadata": {},
     "output_type": "execute_result"
    }
   ],
   "source": [
    "#confirm the above\n",
    "ufa_df[\"FWD/DEF\"].value_counts()"
   ]
  },
  {
   "cell_type": "code",
   "execution_count": 20,
   "metadata": {},
   "outputs": [
    {
     "data": {
      "image/png": "[encoded data removed]",
      "text/plain": [
       "<matplotlib.figure.Figure at 0x1445829e860>"
      ]
     },
     "metadata": {},
     "output_type": "display_data"
    }
   ],
   "source": [
    "#If we want to look at this chart by team, then we need to drop the slashes \"DAL/ANA\" to 'ANA'\n",
    "#Plot the scatterplot \n",
    "sns.lmplot(x = \"Cap Hit\", y = \"Points per Game\", data = ufa_df, hue=\"FWD/DEF\", fit_reg=True)\n",
    "plt.title(\"Cap Hit vs. Points per Game\")\n",
    "plt.show()"
   ]
  },
  {
   "cell_type": "code",
   "execution_count": 21,
   "metadata": {},
   "outputs": [
    {
     "data": {
      "image/png": "[encoded data removed]",
      "text/plain": [
       "<matplotlib.figure.Figure at 0x14458474908>"
      ]
     },
     "metadata": {},
     "output_type": "display_data"
    }
   ],
   "source": [
    "#Create scatterplot for game winning goals to salary\n",
    "\n",
    "#duplicate the data set and filter out 0 GWG\n",
    "gwg_df = ufa_df.loc[ufa_df[\"NHL GWG\"] > 0]\n",
    "\n",
    "#plot the data\n",
    "sns.lmplot(x = \"NHL GWG\", y = \"Cap Hit\", data = gwg_df, hue=\"FWD/DEF\")\n",
    "plt.show()\n",
    "\n",
    "#observable trend = Higher paid players seem to score more Game Winning Goals"
   ]
  },
  {
   "cell_type": "code",
   "execution_count": null,
   "metadata": {},
   "outputs": [],
   "source": [
    "#List all columns in our ufa_df dataframe\n",
    "#list(ufa_df)"
   ]
  },
  {
   "cell_type": "code",
   "execution_count": 22,
   "metadata": {
    "collapsed": true
   },
   "outputs": [],
   "source": [
    "#Create data frames to hold Defensive and Offensive players\n",
    "ufa_fwd = ufa_df.loc[ufa_df[\"FWD/DEF\"] == \"F\"]\n",
    "ufa_def = ufa_df.loc[ufa_df[\"FWD/DEF\"] == \"D\"]"
   ]
  },
  {
   "cell_type": "code",
   "execution_count": 23,
   "metadata": {
    "collapsed": true
   },
   "outputs": [],
   "source": [
    "#Create data frame of NHL Players who scored at least 1 point\n",
    "non_zero_pts = nhl_df.loc[nhl_df[\"Points\"] != 0]\n",
    "non_zero_fwd = ufa_fwd.loc[ufa_fwd[\"Points\"] != 0]\n",
    "non_zero_def = ufa_def.loc[ufa_def[\"Points\"] != 0]"
   ]
  },
  {
   "cell_type": "code",
   "execution_count": 24,
   "metadata": {
    "scrolled": false
   },
   "outputs": [
    {
     "data": {
      "image/png": "[encoded data removed]",
      "text/plain": [
       "<matplotlib.figure.Figure at 0x144584b3a20>"
      ]
     },
     "metadata": {},
     "output_type": "display_data"
    }
   ],
   "source": [
    "#Create a boxplot, for Forwards, showing Points Per Game vs. Draft Round\n",
    "sns.set_style(\"whitegrid\")\n",
    "sns.boxplot(x = \"NHL DftRd\", y = \"Points per Game\", data = non_zero_pts)\n",
    "plt.title(\"Points per Game vs. Draft Round\")\n",
    "plt.show()\n",
    "\n",
    "#Observable trend = Higher drafted players produce more points per game, interesting to note the outliers and gems found\n",
    "#in the latest rounds"
   ]
  },
  {
   "cell_type": "code",
   "execution_count": 25,
   "metadata": {
    "scrolled": true
   },
   "outputs": [
    {
     "data": {
      "image/png": "[encoded data removed]",
      "text/plain": [
       "<matplotlib.figure.Figure at 0x144584139e8>"
      ]
     },
     "metadata": {},
     "output_type": "display_data"
    }
   ],
   "source": [
    "#Create a boxplot, for Forwards only, showing Points Per Game vs. Draft Round\n",
    "sns.set_style(\"whitegrid\")\n",
    "sns.boxplot(x = \"NHL DftRd\", y = \"Points per Game\", data = non_zero_fwd)\n",
    "plt.title(\"Forwards Only - Points per Game vs. Draft Round\")\n",
    "plt.show()"
   ]
  },
  {
   "cell_type": "code",
   "execution_count": 26,
   "metadata": {},
   "outputs": [
    {
     "data": {
      "image/png": "[encoded data removed]",
      "text/plain": [
       "<matplotlib.figure.Figure at 0x14458536a90>"
      ]
     },
     "metadata": {},
     "output_type": "display_data"
    }
   ],
   "source": [
    "#Create a boxplot, for Defesemen only, showing Points Per Game vs. Draft Round\n",
    "sns.set_style(\"whitegrid\")\n",
    "sns.boxplot(x = \"NHL DftRd\", y = \"Points per Game\", data = non_zero_def)\n",
    "plt.title(\"Defense Only - Points per Game vs. Draft Round\")\n",
    "plt.show()"
   ]
  },
  {
   "cell_type": "code",
   "execution_count": 37,
   "metadata": {
    "scrolled": true
   },
   "outputs": [
    {
     "data": {
      "image/png": "[encoded data removed]",
      "text/plain": [
       "<matplotlib.figure.Figure at 0x144589229e8>"
      ]
     },
     "metadata": {},
     "output_type": "display_data"
    }
   ],
   "source": [
    "\n",
    "#Forwards vs. Defensemen - Goals For vs. Goals Against vs. Cap Hit\n",
    "sns.set_style(\"whitegrid\")\n",
    "\n",
    "def_dsfa = plt.scatter(x = ufa_def[\"Cap Hit\"], y = ufa_def[\"DSA/TOI\"], s = ufa_def[\"Cap Hit\"]/50000,\n",
    "            cmap = \"Reds\", alpha = 0.5, edgecolors = \"black\", linewidth = 1, label = \"Defensemen\")\n",
    "\n",
    "plt.figsize = (20, 15)\n",
    "\n",
    "#Set X / Y Limits\n",
    "#plt.ylim(-0.001, max(ufa_def[\"DSA/TOI\"])+0.0005)\n",
    "plt.ylim(-0.0005, 0.003)\n",
    "\n",
    "# Add titles (main and on axis)\n",
    "plt.xlabel(\"Cap Hit\")\n",
    "plt.ylabel(\"Dangerous Shots Against / TOI\")\n",
    "plt.title(\"Cap Hit vs. Normalized Dangerous Shots Against\")\n",
    "\n",
    "#Create a legend\n",
    "#plt.legend(handles = [fwd_plot, def_plot], loc = 'best')\n",
    "\n",
    "plt.show()\n"
   ]
  },
  {
   "cell_type": "code",
   "execution_count": null,
   "metadata": {},
   "outputs": [],
   "source": [
    "#Forwards vs. Defensemen - Goals For vs. Goals Against vs. Cap Hit\n",
    "sns.set_style(\"whitegrid\")\n",
    "\n",
    "fwd_plot = plt.scatter(x = ufa_fwd[\"CH GF\"], y = ufa_fwd[\"CH GA\"], s = ufa_fwd[\"Cap Hit\"]/50000,\n",
    "            cmap = \"Blues\", alpha = 0.5, edgecolors = \"black\", linewidth = 1, label = \"Forwards\")\n",
    "\n",
    "def_plot = plt.scatter(x = ufa_def[\"CH GF\"], y = ufa_def[\"CH GA\"], s = ufa_def[\"Cap Hit\"]/50000,\n",
    "            cmap = \"Reds\", alpha = 0.5, edgecolors = \"black\", linewidth = 1, label = \"Defensemen\")\n",
    "\n",
    "plt.figsize = (20, 15)\n",
    "\n",
    "#Set X / Y Limits\n",
    "plt.xlim(0, max(max(ufa_df[\"CH GF\"]), max(ufa_df[\"CH GA\"])))\n",
    "plt.ylim(0, max(max(ufa_df[\"CH GF\"]), max(ufa_df[\"CH GA\"])))\n",
    "\n",
    "# Add titles (main and on axis)\n",
    "plt.xlabel(\"Goals For\")\n",
    "plt.ylabel(\"Goals Against\")\n",
    "plt.title(\"Goals For vs. Goals Against; Bubble Size = Cap Hit\")\n",
    "\n",
    "#Create a legend\n",
    "plt.legend(handles = [fwd_plot, def_plot], loc = 'best')\n",
    "\n",
    "plt.show()"
   ]
  },
  {
   "cell_type": "code",
   "execution_count": null,
   "metadata": {
    "collapsed": true
   },
   "outputs": [],
   "source": [
    "#! pip install plotly\n",
    "import plotly"
   ]
  },
  {
   "cell_type": "code",
   "execution_count": null,
   "metadata": {},
   "outputs": [],
   "source": [
    "import plotly.plotly as py\n",
    "import plotly.graph_objs as go\n",
    "\n",
    "#plotly.tools.set_credentials_file(username='cjgargano', api_key='7mHALedPo2uS6vOf4arJ')\n",
    "#print(plotly.__version__)           \n",
    "plotly.offline.init_notebook_mode() # run at the start of every notebook"
   ]
  },
  {
   "cell_type": "code",
   "execution_count": null,
   "metadata": {
    "scrolled": true
   },
   "outputs": [],
   "source": [
    "trace0 = go.Scatter(\n",
    "    x = ufa_fwd[\"CH GF\"],\n",
    "    y = ufa_fwd[\"CH GA\"],\n",
    "    name = 'FWD',\n",
    "    mode = 'markers',\n",
    "    marker = dict(\n",
    "        size = ufa_fwd[\"Cap Hit\"] / 500000,\n",
    "        color = 'rgba(0, 75, 141, .8)',\n",
    "        line = dict(\n",
    "            width = 2,\n",
    "            color = 'rgb(0, 37, 70)'\n",
    "        )\n",
    "    )\n",
    ")\n",
    "\n",
    "trace1 = go.Scatter(\n",
    "    x = ufa_def[\"CH GF\"],\n",
    "    y = ufa_def[\"CH GA\"],\n",
    "    name = 'DEF',\n",
    "    mode = 'markers',\n",
    "    marker = dict(\n",
    "        size = ufa_def[\"Cap Hit\"] / 500000,\n",
    "        color = 'rgba(250, 180, 0, .8)',\n",
    "        line = dict(\n",
    "            width = 2,\n",
    "            color = 'rgb(125, 90, 0)'\n",
    "        )\n",
    "    )\n",
    ")\n",
    "\n",
    "data = [trace0, trace1]\n",
    "\n",
    "layout = dict(title = 'Goals For vs. Goals Against',\n",
    "              yaxis = dict(zeroline = False),\n",
    "              xaxis = dict(zeroline = False)\n",
    "             )\n",
    "\n",
    "fig = dict(data=data, layout=layout)\n",
    "py.iplot(fig, filename='GF_vs_GA')"
   ]
  },
  {
   "cell_type": "code",
   "execution_count": null,
   "metadata": {},
   "outputs": [],
   "source": [
    "goals_by_type = [nhl_df[\"NHL G.Slap\"].sum(),\n",
    "                 nhl_df[\"NHL G.Snap\"].sum(),\n",
    "                 nhl_df[\"NHL G.Wrst\"].sum(),\n",
    "                 nhl_df[\"NHL G.Bkhd\"].sum(),\n",
    "                 nhl_df[\"NHL G.Wrap\"].sum(),\n",
    "                 nhl_df[\"NHL G.Dflct\"].sum() + nhl_df[\"NHL G.Tip\"].sum()\n",
    "                ]\n",
    "goals_by_type"
   ]
  },
  {
   "cell_type": "code",
   "execution_count": null,
   "metadata": {},
   "outputs": [],
   "source": [
    "### Plot relationship between goals scored [NHL G (goals), NHL 1G (first goal of game)] was scored (NHL G.: Bkhd, Dflct, \n",
    "### Slap, Snap, Tip, Wrap, Wrst)\n",
    "\n",
    "shot_type = [\"Slap\", \"Snap\", \"Wrist\", \"Backhand\", \"Wraparound\", \"Deflection\"]\n",
    "\n",
    "goals_by_type = [nhl_df[\"NHL G.Slap\"].sum(),\n",
    "                 nhl_df[\"NHL G.Snap\"].sum(),\n",
    "                 nhl_df[\"NHL G.Wrst\"].sum(),\n",
    "                 nhl_df[\"NHL G.Bkhd\"].sum(),\n",
    "                 nhl_df[\"NHL G.Wrap\"].sum(),\n",
    "                 nhl_df[\"NHL G.Dflct\"].sum() + nhl_df[\"NHL G.Tip\"].sum()\n",
    "                ]\n",
    "\n",
    "shots_by_type = [nhl_df[\"NHL S.Slap\"].sum(),\n",
    "                 nhl_df[\"NHL S.Snap\"].sum(),\n",
    "                 nhl_df[\"NHL S.Wrst\"].sum(),\n",
    "                 nhl_df[\"NHL S.Bkhd\"].sum(),\n",
    "                 nhl_df[\"NHL S.Wrap\"].sum(),\n",
    "                 nhl_df[\"NHL S.Dflct\"].sum() + nhl_df[\"NHL S.Tip\"].sum()\n",
    "                ]\n",
    "\n",
    "shot_analysis = pd.DataFrame({\"Type\": shot_type,\n",
    "                             \"Goals\": goals_by_type,\n",
    "                             \"Shots\": shots_by_type})\n",
    "\n",
    "shot_analysis.info()"
   ]
  },
  {
   "cell_type": "code",
   "execution_count": null,
   "metadata": {
    "scrolled": true
   },
   "outputs": [],
   "source": [
    "shot_analysis[\"ScorePct\"] = round(shot_analysis[\"Goals\"] / shot_analysis[\"Shots\"], 4)\n",
    "shot_analysis.head()"
   ]
  },
  {
   "cell_type": "code",
   "execution_count": null,
   "metadata": {},
   "outputs": [],
   "source": [
    "#Create a bar plot of Goals / Shots by Type\n",
    "goal_type_plot = sns.barplot(x = \"Type\", y = \"Goals\", data = shot_analysis, ci = 0)\n",
    "plt.title(\"Goals by Shot Type\")\n",
    "plt.show()"
   ]
  },
  {
   "cell_type": "code",
   "execution_count": null,
   "metadata": {},
   "outputs": [],
   "source": [
    "#Create a bar plot of Shots / Shots by Type\n",
    "shot_type_plot = sns.barplot(x = \"Type\", y = \"Shots\", data = shot_analysis, ci = 0)\n",
    "plt.title(\"Shots by Shot Type\")\n",
    "plt.show()"
   ]
  },
  {
   "cell_type": "code",
   "execution_count": null,
   "metadata": {},
   "outputs": [],
   "source": [
    "#Create a bar plot of Scoring Percentage by Type\n",
    "shot_plot = sns.barplot(x = \"Type\", y = \"Shots\", data = shot_analysis, ci = 0, alpha = 0.5)\n",
    "goal_plot = sns.barplot(x = \"Type\", y = \"Goals\", data = shot_analysis, ci = 0)\n",
    "plt.title(\"Shots and Goals by Type\")\n",
    "plt.show()"
   ]
  },
  {
   "cell_type": "code",
   "execution_count": null,
   "metadata": {
    "scrolled": true
   },
   "outputs": [],
   "source": [
    "#Create a bar plot of Scoring Percentage by Type\n",
    "#Scoring Percentage = # Goals / # Shots\n",
    "\n",
    "# Scoring percentage show that deflections score at a noticably higher rate than the other shot types.\n",
    "# This indicates that the last second direct change of the shot trajectory is very difficult for a goalie to stop.\n",
    "\n",
    "score_pct_plot = sns.barplot(x = \"Type\", y = \"ScorePct\", data = shot_analysis, ci = 0)\n",
    "plt.title(\"Scoring Percentage by Shot Type\")\n",
    "plt.show()"
   ]
  },
  {
   "cell_type": "code",
   "execution_count": null,
   "metadata": {
    "collapsed": true
   },
   "outputs": [],
   "source": []
  }
 ],
 "metadata": {
  "kernelspec": {
   "display_name": "Python 3",
   "language": "python",
   "name": "python3"
  },
  "language_info": {
   "codemirror_mode": {
    "name": "ipython",
    "version": 3
   },
   "file_extension": ".py",
   "mimetype": "text/x-python",
   "name": "python",
   "nbconvert_exporter": "python",
   "pygments_lexer": "ipython3",
   "version": "3.6.3"
  }
 },
 "nbformat": 4,
 "nbformat_minor": 2
}
