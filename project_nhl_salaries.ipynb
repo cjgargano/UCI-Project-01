{
 "cells": [
  {
   "cell_type": "code",
   "execution_count": null,
   "metadata": {
    "collapsed": true
   },
   "outputs": [],
   "source": [
    "#Import Dependencies\n",
    "import pandas as pd\n",
    "import numpy as np\n",
    "import json\n",
    "import time\n",
    "import matplotlib.pyplot as plt\n",
    "import seaborn as sns"
   ]
  },
  {
   "cell_type": "code",
   "execution_count": 2,
   "metadata": {
    "collapsed": true
   },
   "outputs": [],
   "source": [
    "nhl_df = pd.read_csv(\"nhlstats.csv\")"
   ]
  },
  {
   "cell_type": "code",
   "execution_count": 24,
   "metadata": {
    "collapsed": true
   },
   "outputs": [],
   "source": [
    "ufa_df = nhl_df.loc[nhl_df[\"Status\"] == \"UFA\"]"
   ]
  },
  {
   "cell_type": "code",
   "execution_count": 25,
   "metadata": {},
   "outputs": [
    {
     "data": {
      "text/html": [
       "<div>\n",
       "<style>\n",
       "    .dataframe thead tr:only-child th {\n",
       "        text-align: right;\n",
       "    }\n",
       "\n",
       "    .dataframe thead th {\n",
       "        text-align: left;\n",
       "    }\n",
       "\n",
       "    .dataframe tbody tr th {\n",
       "        vertical-align: top;\n",
       "    }\n",
       "</style>\n",
       "<table border=\"1\" class=\"dataframe\">\n",
       "  <thead>\n",
       "    <tr style=\"text-align: right;\">\n",
       "      <th></th>\n",
       "      <th>Player Id</th>\n",
       "      <th>Age</th>\n",
       "      <th>Nationality</th>\n",
       "      <th>Over All Draft</th>\n",
       "      <th>Last Name</th>\n",
       "      <th>First Name</th>\n",
       "      <th>Position</th>\n",
       "      <th>Team</th>\n",
       "      <th>GP</th>\n",
       "      <th>Goals</th>\n",
       "      <th>Assists</th>\n",
       "      <th>Points</th>\n",
       "      <th>PlusMinus</th>\n",
       "      <th>PIM</th>\n",
       "      <th>GWG</th>\n",
       "      <th>Status</th>\n",
       "      <th>Salary</th>\n",
       "    </tr>\n",
       "  </thead>\n",
       "  <tbody>\n",
       "    <tr>\n",
       "      <th>1</th>\n",
       "      <td>8471716</td>\n",
       "      <td>30</td>\n",
       "      <td>USA</td>\n",
       "      <td>42.0</td>\n",
       "      <td>Abdelkader</td>\n",
       "      <td>Justin</td>\n",
       "      <td>LW/RW</td>\n",
       "      <td>DET</td>\n",
       "      <td>64</td>\n",
       "      <td>7</td>\n",
       "      <td>14</td>\n",
       "      <td>21</td>\n",
       "      <td>-20</td>\n",
       "      <td>50</td>\n",
       "      <td>1</td>\n",
       "      <td>UFA</td>\n",
       "      <td>5500000.0</td>\n",
       "    </tr>\n",
       "    <tr>\n",
       "      <th>4</th>\n",
       "      <td>8475844</td>\n",
       "      <td>25</td>\n",
       "      <td>USA</td>\n",
       "      <td>140.0</td>\n",
       "      <td>Agostino</td>\n",
       "      <td>Kenny</td>\n",
       "      <td>LW</td>\n",
       "      <td>STL</td>\n",
       "      <td>7</td>\n",
       "      <td>1</td>\n",
       "      <td>2</td>\n",
       "      <td>3</td>\n",
       "      <td>0</td>\n",
       "      <td>2</td>\n",
       "      <td>0</td>\n",
       "      <td>UFA</td>\n",
       "      <td>625000.0</td>\n",
       "    </tr>\n",
       "    <tr>\n",
       "      <th>6</th>\n",
       "      <td>8473991</td>\n",
       "      <td>29</td>\n",
       "      <td>CAN</td>\n",
       "      <td>5.0</td>\n",
       "      <td>Alzner</td>\n",
       "      <td>Karl</td>\n",
       "      <td>D</td>\n",
       "      <td>WSH</td>\n",
       "      <td>82</td>\n",
       "      <td>3</td>\n",
       "      <td>10</td>\n",
       "      <td>13</td>\n",
       "      <td>23</td>\n",
       "      <td>28</td>\n",
       "      <td>0</td>\n",
       "      <td>UFA</td>\n",
       "      <td>2800000.0</td>\n",
       "    </tr>\n",
       "    <tr>\n",
       "      <th>11</th>\n",
       "      <td>8473573</td>\n",
       "      <td>29</td>\n",
       "      <td>RUS</td>\n",
       "      <td>54.0</td>\n",
       "      <td>Anisimov</td>\n",
       "      <td>Artem</td>\n",
       "      <td>C/LW</td>\n",
       "      <td>CHI</td>\n",
       "      <td>64</td>\n",
       "      <td>22</td>\n",
       "      <td>23</td>\n",
       "      <td>45</td>\n",
       "      <td>9</td>\n",
       "      <td>30</td>\n",
       "      <td>7</td>\n",
       "      <td>UFA</td>\n",
       "      <td>5750000.0</td>\n",
       "    </tr>\n",
       "    <tr>\n",
       "      <th>16</th>\n",
       "      <td>8474715</td>\n",
       "      <td>28</td>\n",
       "      <td>USA</td>\n",
       "      <td>157.0</td>\n",
       "      <td>Atkinson</td>\n",
       "      <td>Cam</td>\n",
       "      <td>RW</td>\n",
       "      <td>CBJ</td>\n",
       "      <td>82</td>\n",
       "      <td>35</td>\n",
       "      <td>27</td>\n",
       "      <td>62</td>\n",
       "      <td>13</td>\n",
       "      <td>22</td>\n",
       "      <td>9</td>\n",
       "      <td>UFA</td>\n",
       "      <td>3500000.0</td>\n",
       "    </tr>\n",
       "  </tbody>\n",
       "</table>\n",
       "</div>"
      ],
      "text/plain": [
       "    Player Id  Age Nationality  Over All Draft   Last Name First Name  \\\n",
       "1     8471716   30         USA            42.0  Abdelkader     Justin   \n",
       "4     8475844   25         USA           140.0    Agostino      Kenny   \n",
       "6     8473991   29         CAN             5.0      Alzner       Karl   \n",
       "11    8473573   29         RUS            54.0    Anisimov      Artem   \n",
       "16    8474715   28         USA           157.0    Atkinson        Cam   \n",
       "\n",
       "   Position Team  GP  Goals  Assists  Points  PlusMinus  PIM  GWG Status  \\\n",
       "1     LW/RW  DET  64      7       14      21        -20   50    1    UFA   \n",
       "4        LW  STL   7      1        2       3          0    2    0    UFA   \n",
       "6         D  WSH  82      3       10      13         23   28    0    UFA   \n",
       "11     C/LW  CHI  64     22       23      45          9   30    7    UFA   \n",
       "16       RW  CBJ  82     35       27      62         13   22    9    UFA   \n",
       "\n",
       "       Salary  \n",
       "1   5500000.0  \n",
       "4    625000.0  \n",
       "6   2800000.0  \n",
       "11  5750000.0  \n",
       "16  3500000.0  "
      ]
     },
     "execution_count": 25,
     "metadata": {},
     "output_type": "execute_result"
    }
   ],
   "source": [
    "ufa_df = ufa_df.dropna()\n",
    "ufa_df.head()"
   ]
  },
  {
   "cell_type": "code",
   "execution_count": 26,
   "metadata": {},
   "outputs": [
    {
     "name": "stdout",
     "output_type": "stream",
     "text": [
      "<class 'pandas.core.frame.DataFrame'>\n",
      "Int64Index: 399 entries, 1 to 882\n",
      "Data columns (total 17 columns):\n",
      "Player Id         399 non-null int64\n",
      "Age               399 non-null int64\n",
      "Nationality       399 non-null object\n",
      "Over All Draft    399 non-null float64\n",
      "Last Name         399 non-null object\n",
      "First Name        399 non-null object\n",
      "Position          399 non-null object\n",
      "Team              399 non-null object\n",
      "GP                399 non-null int64\n",
      "Goals             399 non-null int64\n",
      "Assists           399 non-null int64\n",
      "Points            399 non-null int64\n",
      "PlusMinus         399 non-null int64\n",
      "PIM               399 non-null int64\n",
      "GWG               399 non-null int64\n",
      "Status            399 non-null object\n",
      "Salary            399 non-null float64\n",
      "dtypes: float64(2), int64(9), object(6)\n",
      "memory usage: 56.1+ KB\n"
     ]
    }
   ],
   "source": [
    "ufa_df.info()"
   ]
  },
  {
   "cell_type": "code",
   "execution_count": 27,
   "metadata": {},
   "outputs": [],
   "source": [
    "#### Salary vs. Birthplace ####\n",
    "ufa_df[\"Nationality\"].value_counts()\n",
    "oth_df = ufa_df\n",
    "oth_df = oth_df.replace(['DNK','DEU','FRA','AUT','NOR','SVN','HRV','GBR','LVA'],['OTH','OTH','OTH','OTH','OTH','OTH','OTH','OTH','OTH'])"
   ]
  },
  {
   "cell_type": "code",
   "execution_count": 28,
   "metadata": {
    "collapsed": true
   },
   "outputs": [],
   "source": [
    "can = ufa_df.loc[ufa_df[\"Nationality\"] ==  'CAN']\n",
    "usa = ufa_df.loc[ufa_df[\"Nationality\"] ==  'USA']\n",
    "swe = ufa_df.loc[ufa_df[\"Nationality\"] ==  'SWE']\n",
    "rus = ufa_df.loc[ufa_df[\"Nationality\"] ==  'RUS']\n",
    "fin = ufa_df.loc[ufa_df[\"Nationality\"] ==  'FIN']\n",
    "cze = ufa_df.loc[ufa_df[\"Nationality\"] ==  'CZE']\n",
    "che = ufa_df.loc[ufa_df[\"Nationality\"] ==  'CHE']\n",
    "svk = ufa_df.loc[ufa_df[\"Nationality\"] ==  'SVK']\n",
    "oth = oth_df.loc[oth_df[\"Nationality\"] ==  'OTH']"
   ]
  },
  {
   "cell_type": "code",
   "execution_count": 29,
   "metadata": {},
   "outputs": [],
   "source": [
    "can_sal = round(can['Salary'].mean())\n",
    "usa_sal = round(usa['Salary'].mean())\n",
    "swe_sal = round(swe['Salary'].mean())\n",
    "rus_sal = round(rus['Salary'].mean())\n",
    "fin_sal = round(fin['Salary'].mean())\n",
    "cze_sal = round(cze['Salary'].mean())\n",
    "che_sal = round(che['Salary'].mean())\n",
    "svk_sal = round(svk['Salary'].mean())\n",
    "oth_sal = round(oth['Salary'].mean())"
   ]
  },
  {
   "cell_type": "code",
   "execution_count": 30,
   "metadata": {
    "collapsed": true
   },
   "outputs": [],
   "source": [
    "countries_sal = [can_sal, usa_sal, swe_sal, rus_sal, fin_sal,cze_sal,che_sal,svk_sal,oth_sal]"
   ]
  },
  {
   "cell_type": "code",
   "execution_count": 31,
   "metadata": {
    "collapsed": true
   },
   "outputs": [],
   "source": [
    "x_axis = np.arange(len(countries_sal))"
   ]
  },
  {
   "cell_type": "code",
   "execution_count": 32,
   "metadata": {},
   "outputs": [
    {
     "data": {
      "image/png": "[encoded data removed]",
      "text/plain": [
       "<matplotlib.figure.Figure at 0x21588ecca58>"
      ]
     },
     "metadata": {},
     "output_type": "display_data"
    }
   ],
   "source": [
    "plt.bar(x_axis, countries_sal, color='r', alpha=0.5, align=\"edge\")\n",
    "\n",
    "# Tell matplotlib where we would like to place each of our x axis headers\n",
    "tick_locations = [value+0.4 for value in x_axis]\n",
    "plt.xticks(tick_locations, [\"CAN\", \"USA\", \"SWE\", \"RUS\", \"FIN\",\"CZE\",\"CHE\",\"SVK\",\"OTH\"])\n",
    "plt.title(\"Average Salary by Country\")\n",
    "plt.xlabel(\"Country\")\n",
    "plt.ylabel(\"Average Salary\")\n",
    "plt.show()"
   ]
  },
  {
   "cell_type": "code",
   "execution_count": null,
   "metadata": {
    "collapsed": true
   },
   "outputs": [],
   "source": [
    "#draft_plot = plt.scatter(x = ufa_df['ride_count'], y = urban['fare'], s = urban['driver_count'] * 5, alpha = 0.75,\n",
    "#                        edgecolors = 'black', color = 'lightcoral', label = 'Urban')"
   ]
  }
 ],
 "metadata": {
  "kernelspec": {
   "display_name": "Python 3",
   "language": "python",
   "name": "python3"
  },
  "language_info": {
   "codemirror_mode": {
    "name": "ipython",
    "version": 3
   },
   "file_extension": ".py",
   "mimetype": "text/x-python",
   "name": "python",
   "nbconvert_exporter": "python",
   "pygments_lexer": "ipython3",
   "version": "3.6.3"
  }
 },
 "nbformat": 4,
 "nbformat_minor": 2
}
